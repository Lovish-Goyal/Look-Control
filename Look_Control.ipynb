{
 "cells": [
  {
   "cell_type": "markdown",
   "id": "0759dbe7",
   "metadata": {},
   "source": [
    "## Mouse Control Using Eye LandMarks"
   ]
  },
  {
   "cell_type": "markdown",
   "id": "4214226a",
   "metadata": {},
   "source": [
    "### step 1: Import Libraries"
   ]
  },
  {
   "cell_type": "code",
   "execution_count": 2,
   "id": "97c55d24",
   "metadata": {},
   "outputs": [],
   "source": [
    "import cv2\n",
    "import mediapipe as mp\n",
    "import pyautogui"
   ]
  },
  {
   "cell_type": "markdown",
   "id": "04bd01f9",
   "metadata": {},
   "source": [
    "### step 2: Initialize Webcam"
   ]
  },
  {
   "cell_type": "code",
   "execution_count": 3,
   "id": "0e1f344e",
   "metadata": {},
   "outputs": [],
   "source": [
    "# Initialize webcam and face mesh\n",
    "cam = cv2.VideoCapture(0)\n",
    "face_mesh = mp.solutions.face_mesh.FaceMesh(refine_landmarks=True)"
   ]
  },
  {
   "cell_type": "markdown",
   "id": "9d6de890",
   "metadata": {},
   "source": [
    "### step 3: Control Mouse"
   ]
  },
  {
   "cell_type": "code",
   "execution_count": 4,
   "id": "61196ff9",
   "metadata": {},
   "outputs": [],
   "source": [
    "# Get screen size\n",
    "screen_w, screen_h = pyautogui.size()\n",
    "\n",
    "while True:\n",
    "    # Read frame from webcam\n",
    "    _, frame = cam.read()\n",
    "    frame = cv2.flip(frame, 1)\n",
    "    rgb_frame = cv2.cvtColor(frame, cv2.COLOR_BGR2RGB)\n",
    "    output = face_mesh.process(rgb_frame)\n",
    "    landmarks_points = output.multi_face_landmarks\n",
    "    frame_h, frame_w, _ = frame.shape\n",
    "\n",
    "    if landmarks_points:\n",
    "        landmarks = landmarks_points[0].landmark\n",
    "\n",
    "        for id, landmark in enumerate(landmarks[474:478]):\n",
    "            x = int(landmark.x * frame_w)\n",
    "            y = int(landmark.y * frame_h)\n",
    "            cv2.circle(frame, (x, y), 3, (0, 255, 0), -1)\n",
    "            \n",
    "            if id == 1:\n",
    "                # Convert eye position to screen coordinates\n",
    "                screen_x = screen_w / frame_w * x\n",
    "                screen_y = screen_h / frame_h * y\n",
    "                \n",
    "                # Ensure coordinates are within screen bounds\n",
    "                screen_x = min(max(screen_x, 0), screen_w - 1)\n",
    "                screen_y = min(max(screen_y, 0), screen_h - 1)\n",
    "                \n",
    "                pyautogui.moveTo(screen_x, screen_y)\n",
    "\n",
    "        # Track two specific landmarks to detect eye blinking\n",
    "        main = [landmarks[145], landmarks[159]]\n",
    "        \n",
    "        for landmark in main:\n",
    "            x = int(landmark.x * frame_w)\n",
    "            y = int(landmark.y * frame_h)\n",
    "            cv2.circle(frame, (x, y), 3, (0, 255, 0), -1)\n",
    "        \n",
    "        # Detect blink based on distance between two landmarks\n",
    "        if abs(main[0].y - main[1].y) < 0.004:\n",
    "            pyautogui.click()\n",
    "            pyautogui.sleep(1)\n",
    "\n",
    "    # Display the frame with visual markers\n",
    "    cv2.imshow(\"Camera\", frame)\n",
    "    \n",
    "    # Break the loop and stop the camera when 'q' is pressed\n",
    "    if cv2.waitKey(1) & 0xFF == ord('q'):\n",
    "        break\n",
    "\n",
    "# Release the webcam and close windows\n",
    "cam.release()\n",
    "cv2.destroyAllWindows()\n"
   ]
  }
 ],
 "metadata": {
  "kernelspec": {
   "display_name": "Python 3 (ipykernel)",
   "language": "python",
   "name": "python3"
  },
  "language_info": {
   "codemirror_mode": {
    "name": "ipython",
    "version": 3
   },
   "file_extension": ".py",
   "mimetype": "text/x-python",
   "name": "python",
   "nbconvert_exporter": "python",
   "pygments_lexer": "ipython3",
   "version": "3.9.18"
  }
 },
 "nbformat": 4,
 "nbformat_minor": 5
}
